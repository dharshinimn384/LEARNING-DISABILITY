{
 "cells": [
  {
   "cell_type": "code",
   "execution_count": 1,
   "metadata": {},
   "outputs": [],
   "source": [
    "import nibabel as nib\n",
    "import numpy as np\n",
    "import tensorflow as tf\n",
    "from tensorflow.keras import layers, models\n",
    "from sklearn.preprocessing import LabelEncoder\n",
    "import matplotlib.pyplot as plt\n",
    "\n",
    "# Function to load NIfTI images\n",
    "def load_nifti(filename):\n",
    "    img = nib.load(filename)\n",
    "    data = img.get_fdata()\n",
    "    return data\n"
   ]
  },
  {
   "cell_type": "code",
   "execution_count": 2,
   "metadata": {},
   "outputs": [],
   "source": [
    "# Define class names and corresponding file paths\n",
    "class_paths = {'DL_Dataset/group with dyslexia': [\"DL_Dataset/group with dyslexia/sub-047EPKL011005/ses-1/anat/sub-047EPKL011005_ses-1_T1w.nii.gz\",\n",
    "              \"DL_Dataset/group with dyslexia/sub-047EPKL011011/ses-1/anat/sub-047EPKL011011_ses-1_T1w.nii.gz\",\n",
    "             \"DL_Dataset/group with dyslexia/sub-047EPKL011012/ses-1/anat/sub-047EPKL011012_ses-1_T1w.nii.gz\",\n",
    "              \"DL_Dataset/group with dyslexia/sub-047EPKL011041/ses-1/anat/sub-047EPKL011041_ses-1_T1w.nii.gz\",\n",
    "              \"DL_Dataset/group with dyslexia/sub-047EPKL011047/ses-1/anat/sub-047EPKL011047_ses-1_T1w.nii.gz\",\n",
    "              \"DL_Dataset/group with dyslexia/sub-047EPKL011049/ses-1/anat/sub-047EPKL011049_ses-1_T1w.nii.gz\",\n",
    "              \"DL_Dataset/group with dyslexia/sub-047EPKL011051/ses-1/anat/sub-047EPKL011051_ses-1_T1w.nii.gz\",\n",
    "              \"DL_Dataset/group with dyslexia/sub-047EPKL011056/ses-1/anat/sub-047EPKL011056_ses-1_T1w.nii.gz\",\n",
    "              \"DL_Dataset/group with dyslexia/sub-047EPKL011058/ses-1/anat/sub-047EPKL011058_ses-1_T1w.nii.gz\",\n",
    "              \"DL_Dataset/group with dyslexia/sub-047EPKL011059/ses-1/anat/sub-047EPKL011059_ses-1_T1w.nii.gz\",\n",
    "              \"DL_Dataset/group with dyslexia/sub-047EPKL011060/ses-1/anat/sub-047EPKL011060_ses-1_T1w.nii.gz\",\n",
    "              \"DL_Dataset/group with dyslexia/sub-047EPKL011063/ses-1/anat/sub-047EPKL011063_ses-1_T1w.nii.gz\",\n",
    "              \"DL_Dataset/group with dyslexia/sub-047EPKL011068/ses-1/anat/sub-047EPKL011068_ses-1_T1w.nii.gz\",\n",
    "              \"DL_Dataset/group with dyslexia/sub-047EPKL012014/ses-1/anat/sub-047EPKL012014_ses-1_T1w.nii.gz\",\n",
    "              \"DL_Dataset/group with dyslexia/sub-047EPKL012015/ses-1/anat/sub-047EPKL012015_ses-1_T1w.nii.gz\",\n",
    "              \"DL_Dataset/group with dyslexia/sub-047EPKL012017/ses-1/anat/sub-047EPKL012017_ses-1_T1w.nii.gz\",\n",
    "              \"DL_Dataset/group with dyslexia/sub-047EPKL012069/ses-1/anat/sub-047EPKL012069_ses-1_T1w.nii.gz\",\n",
    "              \"DL_Dataset/group with dyslexia/sub-047EPKL012071/ses-1/anat/sub-047EPKL012071_ses-1_T1w.nii.gz\",\n",
    "              \"DL_Dataset/group with dyslexia/sub-047EPKL012073/ses-1/anat/sub-047EPKL012073_ses-1_T1w.nii.gz\",\n",
    "              \"DL_Dataset/group with dyslexia/sub-047EPKL012074/ses-1/anat/sub-047EPKL012074_ses-1_T1w.nii.gz\"],\n",
    "    'DL_Dataset/SpD group': [\n",
    "              \"DL_Dataset/SpD group/sub-047EPKL013003/ses-1/anat/sub-047EPKL013003_ses-1_T1w.nii.gz\",\n",
    "              \"DL_Dataset/SpD group/sub-047EPKL013013/ses-1/anat/sub-047EPKL013013_ses-1_T1w.nii.gz\",\n",
    "              \"DL_Dataset/SpD group/sub-047EPKL013016/ses-1/anat/sub-047EPKL013016_ses-1_T1w.nii.gz\",\n",
    "              \"DL_Dataset/SpD group/sub-047EPKL013019/ses-1/anat/sub-047EPKL013019_ses-1_T1w.nii.gz\",\n",
    "              \"DL_Dataset/SpD group/sub-047EPKL013023/ses-1/anat/sub-047EPKL013023_ses-1_T1w.nii.gz\",\n",
    "              \"DL_Dataset/SpD group/sub-047EPKL013025/ses-1/anat/sub-047EPKL013025_ses-1_T1w.nii.gz\",\n",
    "              \"DL_Dataset/SpD group/sub-047EPKL013028/ses-1/anat/sub-047EPKL013028_ses-1_T1w.nii.gz\",\n",
    "              \"DL_Dataset/SpD group/sub-047EPKL013033/ses-1/anat/sub-047EPKL013033_ses-1_T1w.nii.gz\",\n",
    "              \"DL_Dataset/SpD group/sub-047EPKL013034/ses-1/anat/sub-047EPKL013034_ses-1_T1w.nii.gz\",\n",
    "              \"DL_Dataset/SpD group/sub-047EPKL013035/ses-1/anat/sub-047EPKL013035_ses-1_T1w.nii.gz\",\n",
    "              \"DL_Dataset/SpD group/sub-047EPKL013046/ses-1/anat/sub-047EPKL013046_ses-1_T1w.nii.gz\",\n",
    "              \"DL_Dataset/SpD group/sub-047EPKL013053/ses-1/anat/sub-047EPKL013053_ses-1_T1w.nii.gz\",\n",
    "              \"DL_Dataset/SpD group/sub-047EPKL013057/ses-1/anat/sub-047EPKL013057_ses-1_T1w.nii.gz\",\n",
    "              \"DL_Dataset/SpD group/sub-047EPKL013061/ses-1/anat/sub-047EPKL013061_ses-1_T1w.nii.gz\",\n",
    "              \"DL_Dataset/SpD group/sub-047EPKL013064/ses-1/anat/sub-047EPKL013064_ses-1_T1w.nii.gz\",\n",
    "              \"DL_Dataset/SpD group/sub-047EPKL013065/ses-1/anat/sub-047EPKL013065_ses-1_T1w.nii.gz\"\n",
    "],\n",
    "    'DL_Dataset/TD group': [\"DL_Dataset/TD group/sub-047EPKL014007/ses-1/anat/sub-047EPKL014007_ses-1_T1w.nii.gz\",\n",
    "             \"DL_Dataset/TD group/sub-047EPKL014008/ses-1/anat/sub-047EPKL014008_ses-1_T1w.nii.gz\",\n",
    "             \"DL_Dataset/TD group/sub-047EPKL014010/ses-1/anat/sub-047EPKL014010_ses-1_T1w.nii.gz\",\n",
    "             \"DL_Dataset/TD group/sub-047EPKL014020/ses-1/anat/sub-047EPKL014020_ses-1_T1w.nii.gz\",\n",
    "             \"DL_Dataset/TD group/sub-047EPKL014024/ses-1/anat/sub-047EPKL014024_ses-1_T1w.nii.gz\",\n",
    "             \"DL_Dataset/TD group/sub-047EPKL014026/ses-1/anat/sub-047EPKL014026_ses-1_T1w.nii.gz\",\n",
    "             \"DL_Dataset/TD group/sub-047EPKL014029/ses-1/anat/sub-047EPKL014029_ses-1_T1w.nii.gz\",\n",
    "             \"DL_Dataset/TD group/sub-047EPKL014031/ses-1/anat/sub-047EPKL014031_ses-1_T1w.nii.gz\",\n",
    "             \"DL_Dataset/TD group/sub-047EPKL014036/ses-1/anat/sub-047EPKL014036_ses-1_T1w.nii.gz\",\n",
    "             \"DL_Dataset/TD group/sub-047EPKL014037/ses-1/anat/sub-047EPKL014037_ses-1_T1w.nii.gz\",\n",
    "             \"DL_Dataset/TD group/sub-047EPKL014038/ses-1/anat/sub-047EPKL014038_ses-1_T1w.nii.gz\",\n",
    "             \"DL_Dataset/TD group/sub-047EPKL014039/ses-1/anat/sub-047EPKL014039_ses-1_T1w.nii.gz\",\n",
    "             \"DL_Dataset/TD group/sub-047EPKL014040/ses-1/anat/sub-047EPKL014040_ses-1_T1w.nii.gz\",\n",
    "             \"DL_Dataset/TD group/sub-047EPKL014043/ses-1/anat/sub-047EPKL014043_ses-1_T1w.nii.gz\",\n",
    "             \"DL_Dataset/TD group/sub-047EPKL014045/ses-1/anat/sub-047EPKL014045_ses-1_T1w.nii.gz\",\n",
    "             \"DL_Dataset/TD group/sub-047EPKL014048/ses-1/anat/sub-047EPKL014048_ses-1_T1w.nii.gz\",\n",
    "             \"DL_Dataset/TD group/sub-047EPKL014050/ses-1/anat/sub-047EPKL014050_ses-1_T1w.nii.gz\",\n",
    "             \"DL_Dataset/TD group/sub-047EPKL014052/ses-1/anat/sub-047EPKL014052_ses-1_T1w.nii.gz\",\n",
    "             \"DL_Dataset/TD group/sub-047EPKL014054/ses-1/anat/sub-047EPKL014054_ses-1_T1w.nii.gz\",\n",
    "             \"DL_Dataset/TD group/sub-047EPKL014062/ses-1/anat/sub-047EPKL014062_ses-1_T1w.nii.gz\",\n",
    "             \"DL_Dataset/TD group/sub-047EPKL014066/ses-1/anat/sub-047EPKL014066_ses-1_T1w.nii.gz\",\n",
    "             \"DL_Dataset/TD group/sub-047EPKL014067/ses-1/anat/sub-047EPKL014067_ses-1_T1w.nii.gz\"]\n",
    "}\n",
    "\n"
   ]
  },
  {
   "cell_type": "code",
   "execution_count": 3,
   "metadata": {},
   "outputs": [],
   "source": [
    "\n",
    "# Load and preprocess data\n",
    "data = []\n",
    "labels = []\n",
    "\n",
    "for class_name, file_paths in class_paths.items():\n",
    "    for class_path in file_paths:\n",
    "        img_data = load_nifti(class_path)\n",
    "        img_data = img_data[..., 0] if len(img_data.shape) == 4 else img_data\n",
    "\n",
    "        for slice_idx in range(img_data.shape[0]):\n",
    "            slice_data = img_data[slice_idx, ...]\n",
    "            slice_data = np.expand_dims(slice_data, axis=-1)\n",
    "            slice_data = tf.image.resize(slice_data, (64, 64))\n",
    "            data.append(slice_data)\n",
    "            labels.append(class_name)\n",
    "\n",
    "data = np.array(data)\n",
    "labels = np.array(labels)"
   ]
  },
  {
   "cell_type": "code",
   "execution_count": 4,
   "metadata": {},
   "outputs": [],
   "source": [
    "\n",
    "\n",
    "# Encode class labels to integers\n",
    "label_encoder = LabelEncoder()\n",
    "labels = label_encoder.fit_transform(labels)\n",
    "\n",
    "# Normalize data\n",
    "data = data / np.max(data)\n",
    "\n",
    "# Define the CNN architecture\n",
    "model = models.Sequential([\n",
    "    layers.Conv2D(32, (3, 3), activation='relu', input_shape=(64, 64, 1)),\n",
    "    layers.MaxPooling2D((2, 2)),\n",
    "    layers.Conv2D(64, (3, 3), activation='relu'),\n",
    "    layers.MaxPooling2D((2, 2)),\n",
    "    layers.Conv2D(128, (3, 3), activation='relu'),\n",
    "    layers.Flatten(),\n",
    "    layers.Dense(128, activation='relu'),\n",
    "    layers.Dense(len(class_paths), activation='softmax')  \n",
    "])\n"
   ]
  },
  {
   "cell_type": "code",
   "execution_count": 5,
   "metadata": {},
   "outputs": [
    {
     "name": "stdout",
     "output_type": "stream",
     "text": [
      "Epoch 1/5\n",
      "256/256 [==============================] - 22s 84ms/step - loss: 1.0570 - accuracy: 0.4356 - val_loss: 1.4875 - val_accuracy: 0.0000e+00\n",
      "Epoch 2/5\n",
      "256/256 [==============================] - 22s 85ms/step - loss: 0.9081 - accuracy: 0.5434 - val_loss: 3.3515 - val_accuracy: 0.0857\n",
      "Epoch 3/5\n",
      "256/256 [==============================] - 22s 85ms/step - loss: 0.5882 - accuracy: 0.7246 - val_loss: 4.5449 - val_accuracy: 0.2958\n",
      "Epoch 4/5\n",
      "256/256 [==============================] - 22s 85ms/step - loss: 0.3809 - accuracy: 0.8259 - val_loss: 5.2448 - val_accuracy: 0.3834\n",
      "Epoch 5/5\n",
      "256/256 [==============================] - 22s 85ms/step - loss: 0.2840 - accuracy: 0.8647 - val_loss: 9.7851 - val_accuracy: 0.1988\n"
     ]
    }
   ],
   "source": [
    "\n",
    "# Compile the model\n",
    "model.compile(optimizer='adam',\n",
    "              loss='sparse_categorical_crossentropy',\n",
    "              metrics=['accuracy'])\n",
    "\n",
    "# Train the model\n",
    "history = model.fit(data, labels, epochs=5, validation_split=0.2)"
   ]
  },
  {
   "cell_type": "code",
   "execution_count": 6,
   "metadata": {},
   "outputs": [
    {
     "data": {
      "image/png": "[encoded data removed]",
      "text/plain": [
       "<Figure size 640x480 with 1 Axes>"
      ]
     },
     "metadata": {},
     "output_type": "display_data"
    }
   ],
   "source": [
    "\n",
    "\n",
    "# Plot training history\n",
    "plt.plot(history.history['accuracy'], label='accuracy')\n",
    "plt.plot(history.history['loss'], label='loss')\n",
    "plt.xlabel('Epoch')\n",
    "plt.ylabel('Metric')\n",
    "plt.legend()\n",
    "plt.show()\n"
   ]
  },
  {
   "cell_type": "code",
   "execution_count": null,
   "metadata": {},
   "outputs": [],
   "source": []
  }
 ],
 "metadata": {
  "kernelspec": {
   "display_name": "Python 3",
   "language": "python",
   "name": "python3"
  },
  "language_info": {
   "codemirror_mode": {
    "name": "ipython",
    "version": 3
   },
   "file_extension": ".py",
   "mimetype": "text/x-python",
   "name": "python",
   "nbconvert_exporter": "python",
   "pygments_lexer": "ipython3",
   "version": "3.11.6"
  }
 },
 "nbformat": 4,
 "nbformat_minor": 2
}
